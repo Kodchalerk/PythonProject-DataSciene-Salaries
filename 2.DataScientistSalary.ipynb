{
 "cells": [
  {
   "cell_type": "markdown",
   "id": "45808840-5131-4783-963f-99b5a0ce46fa",
   "metadata": {
    "tags": []
   },
   "source": [
    "# About Data\n",
    "\n",
    "This dataset is about the salaries of data sciences from 2020-2023 acquired from Kaggle published by RANDOMARNAB.\n",
    "\n",
    "This dataset contains 3755 rows and 11 columns, each are:\n",
    "\n",
    "1. work_year: The year the salary was paid.\n",
    "2. experience_level: The experience level in the job during the year\n",
    "3. employment_type: The type of employment for the role\n",
    "4. job_title: The role worked in during the year.\n",
    "5. salary: The total gross salary amount paid.\n",
    "6. salary_currency: The currency of the salary paid as an ISO 4217 currency code.\n",
    "7. salaryinusd: The salary in USD\n",
    "8. employee_residence: Employee's primary country of residence in during the work year as an ISO 3166 country code.\n",
    "9. remote_ratio: The overall amount of work done remotely\n",
    "10. company_location: The country of the employer's main office or contracting branch\n",
    "11. company_size: The median number of people that worked for the company during the year\n",
    "\n",
    "\n",
    "![Stonk](https://github.com/Kodchalerk/PythonProject-DataSciene-Salaries/blob/main/STONK.JPG?raw=true)"
   ]
  },
  {
   "cell_type": "markdown",
   "id": "1c20c5b8-30be-4abb-888f-6cf37a3f6632",
   "metadata": {
    "tags": []
   },
   "source": [
    "# Summary\n",
    "\n",
    "The purpose of the notebook is to perform Exploratory Data Analysis expecting to discover insights about the data science job. After cleaning and processing data, the exploratory data analysis was performed which can be divided into to part , namely, univariate analysis and bivariate analysis.\n",
    "\n",
    "## Findings\n",
    "- The number of people working in data science field was increased significantly in 2022.\n",
    "- Most of the observations are in senior-level accounting for 59% of the dataset.\n",
    "- The Top three most popular job titles are Data Enigneer, Data Scientist, and Data Analyst.\n",
    "- Among the top three most popular job, the data engineer is the higest average job paid (140379 usd/y) among others following up with data scientist (130,255 usd/y) and data analyst (54,696 usd/y).\n",
    "- The range of the salary in this field is between 5,132-450,000 usd / year with the average at 133,401 usd / year.\n",
    "- the remote workers and full-time office workers account for almost half of the entire data set which are both 46% while only 8% are partially remote work.\n",
    "- The majority of the observations work in medium size company accounting for 78% while the large size and small size are 17% and 6% ,respectively.\n",
    "- The average paid of full-time office workers (144,532 usd/y) is higher than the remote workers (131,468 usd/y) while partially remote workers gets only 78,397 usd/y on average. However, the number of observations on partially remote workers are quite low.So, the data might me inaccurate.\n",
    "\n",
    "### What are the average salaries for each type of job level experience?\n",
    "\n",
    "**The average paid for each job experience level**\n",
    "1. Entry-level is 72,739 usd/y\n",
    "2. Mid-level is 101,569 usd/y\n",
    "3. Senior-level is 154,856 usd/y\n",
    "4. Executive-level is 190,984 usd/y\n",
    "\n",
    "### Do people get paid differently between each type of employment?\n",
    "- The average paid of full-time office workers (144,532 usd/y) is higher than the remote workers (131,468 usd/y) while partially remote workers gets only 78,397 usd/y on average. However, the number of observations on partially remote workers are quite low.So, the data might me inaccurate.\n",
    "\n",
    "\n",
    "Note: Sorry for my broken english"
   ]
  },
  {
   "cell_type": "markdown",
   "id": "7d4b8d07-9db4-4457-8057-1c24bad39e8d",
   "metadata": {
    "tags": []
   },
   "source": [
    "# Libraries"
   ]
  },
  {
   "cell_type": "code",
   "execution_count": 160,
   "id": "2db63297-5674-41f9-ba89-ae95f2316dcb",
   "metadata": {},
   "outputs": [],
   "source": [
    "import pandas as pd\n",
    "import numpy as np\n",
    "import matplotlib.pyplot as plt\n",
    "import seaborn as sns\n",
    "sns.set(style=\"darkgrid\")\n",
    "%matplotlib inline"
   ]
  },
  {
   "cell_type": "markdown",
   "id": "847e38d2-3246-4061-9460-77df30acbe0e",
   "metadata": {
    "tags": []
   },
   "source": [
    "# Data Cleaning"
   ]
  },
  {
   "cell_type": "code",
   "execution_count": 2,
   "id": "cf972f50-0641-44ca-a005-67c4932231e6",
   "metadata": {},
   "outputs": [
    {
     "data": {
      "text/html": [
       "<div>\n",
       "<style scoped>\n",
       "    .dataframe tbody tr th:only-of-type {\n",
       "        vertical-align: middle;\n",
       "    }\n",
       "\n",
       "    .dataframe tbody tr th {\n",
       "        vertical-align: top;\n",
       "    }\n",
       "\n",
       "    .dataframe thead th {\n",
       "        text-align: right;\n",
       "    }\n",
       "</style>\n",
       "<table border=\"1\" class=\"dataframe\">\n",
       "  <thead>\n",
       "    <tr style=\"text-align: right;\">\n",
       "      <th></th>\n",
       "      <th>work_year</th>\n",
       "      <th>experience_level</th>\n",
       "      <th>employment_type</th>\n",
       "      <th>job_title</th>\n",
       "      <th>salary</th>\n",
       "      <th>salary_currency</th>\n",
       "      <th>salary_in_usd</th>\n",
       "      <th>employee_residence</th>\n",
       "      <th>remote_ratio</th>\n",
       "      <th>company_location</th>\n",
       "      <th>company_size</th>\n",
       "    </tr>\n",
       "  </thead>\n",
       "  <tbody>\n",
       "    <tr>\n",
       "      <th>0</th>\n",
       "      <td>2023</td>\n",
       "      <td>SE</td>\n",
       "      <td>FT</td>\n",
       "      <td>Principal Data Scientist</td>\n",
       "      <td>80000</td>\n",
       "      <td>EUR</td>\n",
       "      <td>85847</td>\n",
       "      <td>ES</td>\n",
       "      <td>100</td>\n",
       "      <td>ES</td>\n",
       "      <td>L</td>\n",
       "    </tr>\n",
       "    <tr>\n",
       "      <th>1</th>\n",
       "      <td>2023</td>\n",
       "      <td>MI</td>\n",
       "      <td>CT</td>\n",
       "      <td>ML Engineer</td>\n",
       "      <td>30000</td>\n",
       "      <td>USD</td>\n",
       "      <td>30000</td>\n",
       "      <td>US</td>\n",
       "      <td>100</td>\n",
       "      <td>US</td>\n",
       "      <td>S</td>\n",
       "    </tr>\n",
       "    <tr>\n",
       "      <th>2</th>\n",
       "      <td>2023</td>\n",
       "      <td>MI</td>\n",
       "      <td>CT</td>\n",
       "      <td>ML Engineer</td>\n",
       "      <td>25500</td>\n",
       "      <td>USD</td>\n",
       "      <td>25500</td>\n",
       "      <td>US</td>\n",
       "      <td>100</td>\n",
       "      <td>US</td>\n",
       "      <td>S</td>\n",
       "    </tr>\n",
       "    <tr>\n",
       "      <th>3</th>\n",
       "      <td>2023</td>\n",
       "      <td>SE</td>\n",
       "      <td>FT</td>\n",
       "      <td>Data Scientist</td>\n",
       "      <td>175000</td>\n",
       "      <td>USD</td>\n",
       "      <td>175000</td>\n",
       "      <td>CA</td>\n",
       "      <td>100</td>\n",
       "      <td>CA</td>\n",
       "      <td>M</td>\n",
       "    </tr>\n",
       "    <tr>\n",
       "      <th>4</th>\n",
       "      <td>2023</td>\n",
       "      <td>SE</td>\n",
       "      <td>FT</td>\n",
       "      <td>Data Scientist</td>\n",
       "      <td>120000</td>\n",
       "      <td>USD</td>\n",
       "      <td>120000</td>\n",
       "      <td>CA</td>\n",
       "      <td>100</td>\n",
       "      <td>CA</td>\n",
       "      <td>M</td>\n",
       "    </tr>\n",
       "    <tr>\n",
       "      <th>...</th>\n",
       "      <td>...</td>\n",
       "      <td>...</td>\n",
       "      <td>...</td>\n",
       "      <td>...</td>\n",
       "      <td>...</td>\n",
       "      <td>...</td>\n",
       "      <td>...</td>\n",
       "      <td>...</td>\n",
       "      <td>...</td>\n",
       "      <td>...</td>\n",
       "      <td>...</td>\n",
       "    </tr>\n",
       "    <tr>\n",
       "      <th>3750</th>\n",
       "      <td>2020</td>\n",
       "      <td>SE</td>\n",
       "      <td>FT</td>\n",
       "      <td>Data Scientist</td>\n",
       "      <td>412000</td>\n",
       "      <td>USD</td>\n",
       "      <td>412000</td>\n",
       "      <td>US</td>\n",
       "      <td>100</td>\n",
       "      <td>US</td>\n",
       "      <td>L</td>\n",
       "    </tr>\n",
       "    <tr>\n",
       "      <th>3751</th>\n",
       "      <td>2021</td>\n",
       "      <td>MI</td>\n",
       "      <td>FT</td>\n",
       "      <td>Principal Data Scientist</td>\n",
       "      <td>151000</td>\n",
       "      <td>USD</td>\n",
       "      <td>151000</td>\n",
       "      <td>US</td>\n",
       "      <td>100</td>\n",
       "      <td>US</td>\n",
       "      <td>L</td>\n",
       "    </tr>\n",
       "    <tr>\n",
       "      <th>3752</th>\n",
       "      <td>2020</td>\n",
       "      <td>EN</td>\n",
       "      <td>FT</td>\n",
       "      <td>Data Scientist</td>\n",
       "      <td>105000</td>\n",
       "      <td>USD</td>\n",
       "      <td>105000</td>\n",
       "      <td>US</td>\n",
       "      <td>100</td>\n",
       "      <td>US</td>\n",
       "      <td>S</td>\n",
       "    </tr>\n",
       "    <tr>\n",
       "      <th>3753</th>\n",
       "      <td>2020</td>\n",
       "      <td>EN</td>\n",
       "      <td>CT</td>\n",
       "      <td>Business Data Analyst</td>\n",
       "      <td>100000</td>\n",
       "      <td>USD</td>\n",
       "      <td>100000</td>\n",
       "      <td>US</td>\n",
       "      <td>100</td>\n",
       "      <td>US</td>\n",
       "      <td>L</td>\n",
       "    </tr>\n",
       "    <tr>\n",
       "      <th>3754</th>\n",
       "      <td>2021</td>\n",
       "      <td>SE</td>\n",
       "      <td>FT</td>\n",
       "      <td>Data Science Manager</td>\n",
       "      <td>7000000</td>\n",
       "      <td>INR</td>\n",
       "      <td>94665</td>\n",
       "      <td>IN</td>\n",
       "      <td>50</td>\n",
       "      <td>IN</td>\n",
       "      <td>L</td>\n",
       "    </tr>\n",
       "  </tbody>\n",
       "</table>\n",
       "<p>3755 rows × 11 columns</p>\n",
       "</div>"
      ],
      "text/plain": [
       "      work_year experience_level employment_type                 job_title  \\\n",
       "0          2023               SE              FT  Principal Data Scientist   \n",
       "1          2023               MI              CT               ML Engineer   \n",
       "2          2023               MI              CT               ML Engineer   \n",
       "3          2023               SE              FT            Data Scientist   \n",
       "4          2023               SE              FT            Data Scientist   \n",
       "...         ...              ...             ...                       ...   \n",
       "3750       2020               SE              FT            Data Scientist   \n",
       "3751       2021               MI              FT  Principal Data Scientist   \n",
       "3752       2020               EN              FT            Data Scientist   \n",
       "3753       2020               EN              CT     Business Data Analyst   \n",
       "3754       2021               SE              FT      Data Science Manager   \n",
       "\n",
       "       salary salary_currency  salary_in_usd employee_residence  remote_ratio  \\\n",
       "0       80000             EUR          85847                 ES           100   \n",
       "1       30000             USD          30000                 US           100   \n",
       "2       25500             USD          25500                 US           100   \n",
       "3      175000             USD         175000                 CA           100   \n",
       "4      120000             USD         120000                 CA           100   \n",
       "...       ...             ...            ...                ...           ...   \n",
       "3750   412000             USD         412000                 US           100   \n",
       "3751   151000             USD         151000                 US           100   \n",
       "3752   105000             USD         105000                 US           100   \n",
       "3753   100000             USD         100000                 US           100   \n",
       "3754  7000000             INR          94665                 IN            50   \n",
       "\n",
       "     company_location company_size  \n",
       "0                  ES            L  \n",
       "1                  US            S  \n",
       "2                  US            S  \n",
       "3                  CA            M  \n",
       "4                  CA            M  \n",
       "...               ...          ...  \n",
       "3750               US            L  \n",
       "3751               US            L  \n",
       "3752               US            S  \n",
       "3753               US            L  \n",
       "3754               IN            L  \n",
       "\n",
       "[3755 rows x 11 columns]"
      ]
     },
     "execution_count": 2,
     "metadata": {},
     "output_type": "execute_result"
    }
   ],
   "source": [
    "df = pd.read_csv('https://github.com/Kodchalerk/DataScienceProject/blob/main/Raw/ds_salaries.csv?raw=true')\n",
    "df"
   ]
  },
  {
   "cell_type": "code",
   "execution_count": 3,
   "id": "686ae46d-7c7e-43c9-8212-563664a928d1",
   "metadata": {},
   "outputs": [],
   "source": [
    "# Drop unused columns\n",
    "df.drop(['salary','salary_currency'],axis = 1 , inplace = True)"
   ]
  },
  {
   "cell_type": "code",
   "execution_count": 4,
   "id": "22e08969-7425-43d4-b215-92362f2bfae1",
   "metadata": {},
   "outputs": [
    {
     "data": {
      "text/html": [
       "<div>\n",
       "<style scoped>\n",
       "    .dataframe tbody tr th:only-of-type {\n",
       "        vertical-align: middle;\n",
       "    }\n",
       "\n",
       "    .dataframe tbody tr th {\n",
       "        vertical-align: top;\n",
       "    }\n",
       "\n",
       "    .dataframe thead th {\n",
       "        text-align: right;\n",
       "    }\n",
       "</style>\n",
       "<table border=\"1\" class=\"dataframe\">\n",
       "  <thead>\n",
       "    <tr style=\"text-align: right;\">\n",
       "      <th></th>\n",
       "      <th>work_year</th>\n",
       "      <th>experience_level</th>\n",
       "      <th>employment_type</th>\n",
       "      <th>job_title</th>\n",
       "      <th>salary_in_usd</th>\n",
       "      <th>employee_residence</th>\n",
       "      <th>remote_ratio</th>\n",
       "      <th>company_location</th>\n",
       "      <th>company_size</th>\n",
       "    </tr>\n",
       "  </thead>\n",
       "  <tbody>\n",
       "    <tr>\n",
       "      <th>0</th>\n",
       "      <td>2023</td>\n",
       "      <td>SE</td>\n",
       "      <td>FT</td>\n",
       "      <td>Principal Data Scientist</td>\n",
       "      <td>85847</td>\n",
       "      <td>ES</td>\n",
       "      <td>100</td>\n",
       "      <td>ES</td>\n",
       "      <td>L</td>\n",
       "    </tr>\n",
       "    <tr>\n",
       "      <th>1</th>\n",
       "      <td>2023</td>\n",
       "      <td>MI</td>\n",
       "      <td>CT</td>\n",
       "      <td>ML Engineer</td>\n",
       "      <td>30000</td>\n",
       "      <td>US</td>\n",
       "      <td>100</td>\n",
       "      <td>US</td>\n",
       "      <td>S</td>\n",
       "    </tr>\n",
       "    <tr>\n",
       "      <th>2</th>\n",
       "      <td>2023</td>\n",
       "      <td>MI</td>\n",
       "      <td>CT</td>\n",
       "      <td>ML Engineer</td>\n",
       "      <td>25500</td>\n",
       "      <td>US</td>\n",
       "      <td>100</td>\n",
       "      <td>US</td>\n",
       "      <td>S</td>\n",
       "    </tr>\n",
       "    <tr>\n",
       "      <th>3</th>\n",
       "      <td>2023</td>\n",
       "      <td>SE</td>\n",
       "      <td>FT</td>\n",
       "      <td>Data Scientist</td>\n",
       "      <td>175000</td>\n",
       "      <td>CA</td>\n",
       "      <td>100</td>\n",
       "      <td>CA</td>\n",
       "      <td>M</td>\n",
       "    </tr>\n",
       "    <tr>\n",
       "      <th>4</th>\n",
       "      <td>2023</td>\n",
       "      <td>SE</td>\n",
       "      <td>FT</td>\n",
       "      <td>Data Scientist</td>\n",
       "      <td>120000</td>\n",
       "      <td>CA</td>\n",
       "      <td>100</td>\n",
       "      <td>CA</td>\n",
       "      <td>M</td>\n",
       "    </tr>\n",
       "    <tr>\n",
       "      <th>...</th>\n",
       "      <td>...</td>\n",
       "      <td>...</td>\n",
       "      <td>...</td>\n",
       "      <td>...</td>\n",
       "      <td>...</td>\n",
       "      <td>...</td>\n",
       "      <td>...</td>\n",
       "      <td>...</td>\n",
       "      <td>...</td>\n",
       "    </tr>\n",
       "    <tr>\n",
       "      <th>3750</th>\n",
       "      <td>2020</td>\n",
       "      <td>SE</td>\n",
       "      <td>FT</td>\n",
       "      <td>Data Scientist</td>\n",
       "      <td>412000</td>\n",
       "      <td>US</td>\n",
       "      <td>100</td>\n",
       "      <td>US</td>\n",
       "      <td>L</td>\n",
       "    </tr>\n",
       "    <tr>\n",
       "      <th>3751</th>\n",
       "      <td>2021</td>\n",
       "      <td>MI</td>\n",
       "      <td>FT</td>\n",
       "      <td>Principal Data Scientist</td>\n",
       "      <td>151000</td>\n",
       "      <td>US</td>\n",
       "      <td>100</td>\n",
       "      <td>US</td>\n",
       "      <td>L</td>\n",
       "    </tr>\n",
       "    <tr>\n",
       "      <th>3752</th>\n",
       "      <td>2020</td>\n",
       "      <td>EN</td>\n",
       "      <td>FT</td>\n",
       "      <td>Data Scientist</td>\n",
       "      <td>105000</td>\n",
       "      <td>US</td>\n",
       "      <td>100</td>\n",
       "      <td>US</td>\n",
       "      <td>S</td>\n",
       "    </tr>\n",
       "    <tr>\n",
       "      <th>3753</th>\n",
       "      <td>2020</td>\n",
       "      <td>EN</td>\n",
       "      <td>CT</td>\n",
       "      <td>Business Data Analyst</td>\n",
       "      <td>100000</td>\n",
       "      <td>US</td>\n",
       "      <td>100</td>\n",
       "      <td>US</td>\n",
       "      <td>L</td>\n",
       "    </tr>\n",
       "    <tr>\n",
       "      <th>3754</th>\n",
       "      <td>2021</td>\n",
       "      <td>SE</td>\n",
       "      <td>FT</td>\n",
       "      <td>Data Science Manager</td>\n",
       "      <td>94665</td>\n",
       "      <td>IN</td>\n",
       "      <td>50</td>\n",
       "      <td>IN</td>\n",
       "      <td>L</td>\n",
       "    </tr>\n",
       "  </tbody>\n",
       "</table>\n",
       "<p>3755 rows × 9 columns</p>\n",
       "</div>"
      ],
      "text/plain": [
       "      work_year experience_level employment_type                 job_title  \\\n",
       "0          2023               SE              FT  Principal Data Scientist   \n",
       "1          2023               MI              CT               ML Engineer   \n",
       "2          2023               MI              CT               ML Engineer   \n",
       "3          2023               SE              FT            Data Scientist   \n",
       "4          2023               SE              FT            Data Scientist   \n",
       "...         ...              ...             ...                       ...   \n",
       "3750       2020               SE              FT            Data Scientist   \n",
       "3751       2021               MI              FT  Principal Data Scientist   \n",
       "3752       2020               EN              FT            Data Scientist   \n",
       "3753       2020               EN              CT     Business Data Analyst   \n",
       "3754       2021               SE              FT      Data Science Manager   \n",
       "\n",
       "      salary_in_usd employee_residence  remote_ratio company_location  \\\n",
       "0             85847                 ES           100               ES   \n",
       "1             30000                 US           100               US   \n",
       "2             25500                 US           100               US   \n",
       "3            175000                 CA           100               CA   \n",
       "4            120000                 CA           100               CA   \n",
       "...             ...                ...           ...              ...   \n",
       "3750         412000                 US           100               US   \n",
       "3751         151000                 US           100               US   \n",
       "3752         105000                 US           100               US   \n",
       "3753         100000                 US           100               US   \n",
       "3754          94665                 IN            50               IN   \n",
       "\n",
       "     company_size  \n",
       "0               L  \n",
       "1               S  \n",
       "2               S  \n",
       "3               M  \n",
       "4               M  \n",
       "...           ...  \n",
       "3750            L  \n",
       "3751            L  \n",
       "3752            S  \n",
       "3753            L  \n",
       "3754            L  \n",
       "\n",
       "[3755 rows x 9 columns]"
      ]
     },
     "execution_count": 4,
     "metadata": {},
     "output_type": "execute_result"
    }
   ],
   "source": [
    "df"
   ]
  },
  {
   "cell_type": "code",
   "execution_count": 5,
   "id": "f3fe3c48-b18f-4c2f-adcd-d1eb53c8ae4c",
   "metadata": {},
   "outputs": [
    {
     "name": "stdout",
     "output_type": "stream",
     "text": [
      "<class 'pandas.core.frame.DataFrame'>\n",
      "RangeIndex: 3755 entries, 0 to 3754\n",
      "Data columns (total 9 columns):\n",
      " #   Column              Non-Null Count  Dtype \n",
      "---  ------              --------------  ----- \n",
      " 0   work_year           3755 non-null   int64 \n",
      " 1   experience_level    3755 non-null   object\n",
      " 2   employment_type     3755 non-null   object\n",
      " 3   job_title           3755 non-null   object\n",
      " 4   salary_in_usd       3755 non-null   int64 \n",
      " 5   employee_residence  3755 non-null   object\n",
      " 6   remote_ratio        3755 non-null   int64 \n",
      " 7   company_location    3755 non-null   object\n",
      " 8   company_size        3755 non-null   object\n",
      "dtypes: int64(3), object(6)\n",
      "memory usage: 264.1+ KB\n"
     ]
    }
   ],
   "source": [
    "# Check data type\n",
    "df.info()"
   ]
  },
  {
   "cell_type": "code",
   "execution_count": 6,
   "id": "e019fff5-aebf-4d0f-97db-876896fdfa22",
   "metadata": {},
   "outputs": [
    {
     "data": {
      "text/plain": [
       "work_year             0\n",
       "experience_level      0\n",
       "employment_type       0\n",
       "job_title             0\n",
       "salary_in_usd         0\n",
       "employee_residence    0\n",
       "remote_ratio          0\n",
       "company_location      0\n",
       "company_size          0\n",
       "dtype: int64"
      ]
     },
     "execution_count": 6,
     "metadata": {},
     "output_type": "execute_result"
    }
   ],
   "source": [
    "# Check for null values\n",
    "df.isnull().sum()"
   ]
  },
  {
   "cell_type": "code",
   "execution_count": 7,
   "id": "29ab3d7c-c809-46bb-b41b-f493f4ec7bf6",
   "metadata": {},
   "outputs": [
    {
     "data": {
      "text/plain": [
       "1430"
      ]
     },
     "execution_count": 7,
     "metadata": {},
     "output_type": "execute_result"
    }
   ],
   "source": [
    "# Check duplicates\n",
    "df.duplicated(subset=['work_year', 'experience_level', 'employment_type', 'job_title', 'salary_in_usd']).sum()\n",
    "\n",
    "#It seems there are significant amount of duplicate values"
   ]
  },
  {
   "cell_type": "code",
   "execution_count": 8,
   "id": "7521f6f3-c688-4a33-ae91-3735e29a1589",
   "metadata": {},
   "outputs": [],
   "source": [
    "# Drop duplicates\n",
    "df.drop_duplicates(subset=['work_year', 'experience_level', 'employment_type', 'job_title', 'salary_in_usd'], inplace = True)"
   ]
  },
  {
   "cell_type": "code",
   "execution_count": 9,
   "id": "9290dd61-b54c-49c2-b888-a1c710098c0c",
   "metadata": {},
   "outputs": [
    {
     "name": "stdout",
     "output_type": "stream",
     "text": [
      "Now there is only (2325, 9) unique values left in the data set after removed duplicated values\n"
     ]
    }
   ],
   "source": [
    "print('Now there is only {} unique values left in the data set after removed duplicated values'.format(df.shape))"
   ]
  },
  {
   "cell_type": "code",
   "execution_count": 10,
   "id": "832fbbff-7633-48d6-9855-655809340b7c",
   "metadata": {},
   "outputs": [
    {
     "data": {
      "text/html": [
       "<div>\n",
       "<style scoped>\n",
       "    .dataframe tbody tr th:only-of-type {\n",
       "        vertical-align: middle;\n",
       "    }\n",
       "\n",
       "    .dataframe tbody tr th {\n",
       "        vertical-align: top;\n",
       "    }\n",
       "\n",
       "    .dataframe thead th {\n",
       "        text-align: right;\n",
       "    }\n",
       "</style>\n",
       "<table border=\"1\" class=\"dataframe\">\n",
       "  <thead>\n",
       "    <tr style=\"text-align: right;\">\n",
       "      <th></th>\n",
       "      <th>work_year</th>\n",
       "      <th>experience_level</th>\n",
       "      <th>employment_type</th>\n",
       "      <th>job_title</th>\n",
       "      <th>salary_in_usd</th>\n",
       "      <th>employee_residence</th>\n",
       "      <th>remote_ratio</th>\n",
       "      <th>company_location</th>\n",
       "      <th>company_size</th>\n",
       "    </tr>\n",
       "  </thead>\n",
       "  <tbody>\n",
       "    <tr>\n",
       "      <th>1632</th>\n",
       "      <td>2023</td>\n",
       "      <td>SE</td>\n",
       "      <td>FT</td>\n",
       "      <td>ML Engineer</td>\n",
       "      <td>203500</td>\n",
       "      <td>US</td>\n",
       "      <td>100</td>\n",
       "      <td>US</td>\n",
       "      <td>M</td>\n",
       "    </tr>\n",
       "    <tr>\n",
       "      <th>139</th>\n",
       "      <td>2023</td>\n",
       "      <td>SE</td>\n",
       "      <td>FT</td>\n",
       "      <td>Data Scientist</td>\n",
       "      <td>138784</td>\n",
       "      <td>US</td>\n",
       "      <td>100</td>\n",
       "      <td>US</td>\n",
       "      <td>M</td>\n",
       "    </tr>\n",
       "    <tr>\n",
       "      <th>1291</th>\n",
       "      <td>2023</td>\n",
       "      <td>MI</td>\n",
       "      <td>FT</td>\n",
       "      <td>Data Analyst</td>\n",
       "      <td>95000</td>\n",
       "      <td>US</td>\n",
       "      <td>100</td>\n",
       "      <td>US</td>\n",
       "      <td>M</td>\n",
       "    </tr>\n",
       "    <tr>\n",
       "      <th>1863</th>\n",
       "      <td>2022</td>\n",
       "      <td>SE</td>\n",
       "      <td>FT</td>\n",
       "      <td>Machine Learning Software Engineer</td>\n",
       "      <td>248400</td>\n",
       "      <td>CA</td>\n",
       "      <td>100</td>\n",
       "      <td>CA</td>\n",
       "      <td>M</td>\n",
       "    </tr>\n",
       "    <tr>\n",
       "      <th>753</th>\n",
       "      <td>2023</td>\n",
       "      <td>MI</td>\n",
       "      <td>FT</td>\n",
       "      <td>Analytics Engineer</td>\n",
       "      <td>185700</td>\n",
       "      <td>US</td>\n",
       "      <td>0</td>\n",
       "      <td>US</td>\n",
       "      <td>M</td>\n",
       "    </tr>\n",
       "    <tr>\n",
       "      <th>837</th>\n",
       "      <td>2023</td>\n",
       "      <td>MI</td>\n",
       "      <td>FT</td>\n",
       "      <td>Data Engineer</td>\n",
       "      <td>72000</td>\n",
       "      <td>MX</td>\n",
       "      <td>100</td>\n",
       "      <td>MX</td>\n",
       "      <td>M</td>\n",
       "    </tr>\n",
       "    <tr>\n",
       "      <th>470</th>\n",
       "      <td>2023</td>\n",
       "      <td>MI</td>\n",
       "      <td>FT</td>\n",
       "      <td>Data Engineer</td>\n",
       "      <td>75000</td>\n",
       "      <td>US</td>\n",
       "      <td>0</td>\n",
       "      <td>US</td>\n",
       "      <td>M</td>\n",
       "    </tr>\n",
       "    <tr>\n",
       "      <th>3310</th>\n",
       "      <td>2022</td>\n",
       "      <td>EX</td>\n",
       "      <td>FT</td>\n",
       "      <td>Head of Data Science</td>\n",
       "      <td>224000</td>\n",
       "      <td>US</td>\n",
       "      <td>100</td>\n",
       "      <td>US</td>\n",
       "      <td>M</td>\n",
       "    </tr>\n",
       "    <tr>\n",
       "      <th>3183</th>\n",
       "      <td>2022</td>\n",
       "      <td>EX</td>\n",
       "      <td>FT</td>\n",
       "      <td>Lead Data Engineer</td>\n",
       "      <td>115222</td>\n",
       "      <td>CA</td>\n",
       "      <td>100</td>\n",
       "      <td>CA</td>\n",
       "      <td>S</td>\n",
       "    </tr>\n",
       "    <tr>\n",
       "      <th>2254</th>\n",
       "      <td>2022</td>\n",
       "      <td>MI</td>\n",
       "      <td>FT</td>\n",
       "      <td>BI Data Analyst</td>\n",
       "      <td>105066</td>\n",
       "      <td>FR</td>\n",
       "      <td>50</td>\n",
       "      <td>FR</td>\n",
       "      <td>M</td>\n",
       "    </tr>\n",
       "  </tbody>\n",
       "</table>\n",
       "</div>"
      ],
      "text/plain": [
       "      work_year experience_level employment_type  \\\n",
       "1632       2023               SE              FT   \n",
       "139        2023               SE              FT   \n",
       "1291       2023               MI              FT   \n",
       "1863       2022               SE              FT   \n",
       "753        2023               MI              FT   \n",
       "837        2023               MI              FT   \n",
       "470        2023               MI              FT   \n",
       "3310       2022               EX              FT   \n",
       "3183       2022               EX              FT   \n",
       "2254       2022               MI              FT   \n",
       "\n",
       "                               job_title  salary_in_usd employee_residence  \\\n",
       "1632                         ML Engineer         203500                 US   \n",
       "139                       Data Scientist         138784                 US   \n",
       "1291                        Data Analyst          95000                 US   \n",
       "1863  Machine Learning Software Engineer         248400                 CA   \n",
       "753                   Analytics Engineer         185700                 US   \n",
       "837                        Data Engineer          72000                 MX   \n",
       "470                        Data Engineer          75000                 US   \n",
       "3310                Head of Data Science         224000                 US   \n",
       "3183                  Lead Data Engineer         115222                 CA   \n",
       "2254                     BI Data Analyst         105066                 FR   \n",
       "\n",
       "      remote_ratio company_location company_size  \n",
       "1632           100               US            M  \n",
       "139            100               US            M  \n",
       "1291           100               US            M  \n",
       "1863           100               CA            M  \n",
       "753              0               US            M  \n",
       "837            100               MX            M  \n",
       "470              0               US            M  \n",
       "3310           100               US            M  \n",
       "3183           100               CA            S  \n",
       "2254            50               FR            M  "
      ]
     },
     "execution_count": 10,
     "metadata": {},
     "output_type": "execute_result"
    }
   ],
   "source": [
    "df.sample(10)"
   ]
  },
  {
   "cell_type": "code",
   "execution_count": 11,
   "id": "65054b63-47ff-4c51-b860-429393b3e2cb",
   "metadata": {},
   "outputs": [
    {
     "name": "stdout",
     "output_type": "stream",
     "text": [
      "The column experience_level has the following unique values\n",
      "['SE' 'MI' 'EN' 'EX']\n",
      "4\n",
      "----------------\n",
      "The column employment_type has the following unique values\n",
      "['FT' 'CT' 'FL' 'PT']\n",
      "4\n",
      "----------------\n",
      "The column job_title has the following unique values\n",
      "['Principal Data Scientist' 'ML Engineer' 'Data Scientist'\n",
      " 'Applied Scientist' 'Data Analyst' 'Data Modeler' 'Research Engineer'\n",
      " 'Analytics Engineer' 'Business Intelligence Engineer'\n",
      " 'Machine Learning Engineer' 'Data Strategist' 'Data Engineer'\n",
      " 'Computer Vision Engineer' 'Data Quality Analyst'\n",
      " 'Compliance Data Analyst' 'Data Architect'\n",
      " 'Applied Machine Learning Engineer' 'AI Developer' 'Research Scientist'\n",
      " 'Data Analytics Manager' 'Business Data Analyst' 'Applied Data Scientist'\n",
      " 'Staff Data Analyst' 'ETL Engineer' 'Data DevOps Engineer' 'Head of Data'\n",
      " 'Data Science Manager' 'Data Manager' 'Machine Learning Researcher'\n",
      " 'Big Data Engineer' 'Data Specialist' 'Lead Data Analyst'\n",
      " 'BI Data Engineer' 'Director of Data Science'\n",
      " 'Machine Learning Scientist' 'MLOps Engineer' 'AI Scientist'\n",
      " 'Autonomous Vehicle Technician' 'Applied Machine Learning Scientist'\n",
      " 'Lead Data Scientist' 'Cloud Database Engineer' 'Financial Data Analyst'\n",
      " 'Data Infrastructure Engineer' 'Software Data Engineer' 'AI Programmer'\n",
      " 'Data Operations Engineer' 'BI Developer' 'Data Science Lead'\n",
      " 'Deep Learning Researcher' 'BI Analyst' 'Data Science Consultant'\n",
      " 'Data Analytics Specialist' 'Machine Learning Infrastructure Engineer'\n",
      " 'BI Data Analyst' 'Head of Data Science' 'Insight Analyst'\n",
      " 'Deep Learning Engineer' 'Machine Learning Software Engineer'\n",
      " 'Big Data Architect' 'Product Data Analyst'\n",
      " 'Computer Vision Software Engineer' 'Azure Data Engineer'\n",
      " 'Marketing Data Engineer' 'Data Analytics Lead' 'Data Lead'\n",
      " 'Data Science Engineer' 'Machine Learning Research Engineer'\n",
      " 'NLP Engineer' 'Manager Data Management' 'Machine Learning Developer'\n",
      " '3D Computer Vision Researcher' 'Principal Machine Learning Engineer'\n",
      " 'Data Analytics Engineer' 'Data Analytics Consultant'\n",
      " 'Data Management Specialist' 'Data Science Tech Lead'\n",
      " 'Data Scientist Lead' 'Cloud Data Engineer' 'Data Operations Analyst'\n",
      " 'Marketing Data Analyst' 'Power BI Developer' 'Product Data Scientist'\n",
      " 'Principal Data Architect' 'Machine Learning Manager'\n",
      " 'Lead Machine Learning Engineer' 'ETL Developer' 'Cloud Data Architect'\n",
      " 'Lead Data Engineer' 'Head of Machine Learning' 'Principal Data Analyst'\n",
      " 'Principal Data Engineer' 'Staff Data Scientist' 'Finance Data Analyst']\n",
      "93\n",
      "----------------\n",
      "The column employee_residence has the following unique values\n",
      "['ES' 'US' 'CA' 'DE' 'GB' 'NG' 'IN' 'HK' 'PT' 'NL' 'CH' 'CF' 'FR' 'AU'\n",
      " 'FI' 'UA' 'IE' 'IL' 'GH' 'AT' 'CO' 'SG' 'SE' 'SI' 'MX' 'UZ' 'BR' 'TH'\n",
      " 'HR' 'PL' 'KW' 'VN' 'CY' 'AM' 'BA' 'KE' 'GR' 'MK' 'LV' 'RO' 'PK' 'IT'\n",
      " 'MA' 'AR' 'LT' 'BE' 'AS' 'IR' 'HU' 'SK' 'CN' 'CZ' 'CR' 'TR' 'CL' 'PR'\n",
      " 'DK' 'BO' 'PH' 'DO' 'EG' 'ID' 'AE' 'MY' 'JP' 'EE' 'HN' 'TN' 'RU' 'DZ'\n",
      " 'IQ' 'BG' 'JE' 'RS' 'NZ' 'MD' 'LU' 'MT']\n",
      "78\n",
      "----------------\n",
      "The column company_location has the following unique values\n",
      "['ES' 'US' 'CA' 'DE' 'GB' 'NG' 'IN' 'HK' 'NL' 'CH' 'CF' 'FR' 'FI' 'UA'\n",
      " 'IE' 'IL' 'GH' 'CO' 'SG' 'AU' 'SE' 'SI' 'MX' 'BR' 'PT' 'RU' 'TH' 'HR'\n",
      " 'VN' 'EE' 'AM' 'BA' 'KE' 'GR' 'MK' 'LV' 'RO' 'PK' 'IT' 'MA' 'PL' 'AL'\n",
      " 'AR' 'LT' 'AS' 'CR' 'IR' 'BS' 'HU' 'AT' 'SK' 'CZ' 'TR' 'PR' 'DK' 'BO'\n",
      " 'PH' 'BE' 'ID' 'EG' 'AE' 'LU' 'MY' 'HN' 'JP' 'DZ' 'IQ' 'CN' 'NZ' 'CL'\n",
      " 'MD' 'MT']\n",
      "72\n",
      "----------------\n",
      "The column company_size has the following unique values\n",
      "['L' 'S' 'M']\n",
      "3\n",
      "----------------\n"
     ]
    }
   ],
   "source": [
    "# Check data intregity\n",
    "for col in df.columns:\n",
    "    if df[col].dtype == 'object':\n",
    "        print('The column {} has the following unique values'.format(col))\n",
    "        print(df[col].unique())\n",
    "        print(df[col].nunique())\n",
    "        print('----------------')"
   ]
  },
  {
   "cell_type": "code",
   "execution_count": 12,
   "id": "52e7bab8-d5cb-4f1a-ba54-84029269e007",
   "metadata": {},
   "outputs": [
    {
     "data": {
      "text/plain": [
       "array([100,   0,  50], dtype=int64)"
      ]
     },
     "execution_count": 12,
     "metadata": {},
     "output_type": "execute_result"
    }
   ],
   "source": [
    "\n",
    "df.remote_ratio.unique()"
   ]
  },
  {
   "cell_type": "code",
   "execution_count": 13,
   "id": "4f3a25df-ad71-4e30-ae01-aaedd5bca88e",
   "metadata": {},
   "outputs": [],
   "source": [
    "# Replace categorical values in expreciene level and employement type columns\n",
    "# Change data type of remote ratio column by replacing the numeric value to text\n",
    "\n",
    "df['experience_level'] = df['experience_level'].replace('EN','Entry-level')\n",
    "df['experience_level'] = df['experience_level'].replace('MI','Mid-level')\n",
    "df['experience_level'] = df['experience_level'].replace('SE','Senior-level')\n",
    "df['experience_level'] = df['experience_level'].replace('EX','Executive-level')\n",
    "\n",
    "df['employment_type'] = df['employment_type'].replace('FT','Full-time')\n",
    "df['employment_type'] = df['employment_type'].replace('PT','Part-time')\n",
    "df['employment_type'] = df['employment_type'].replace('CT','Contract')\n",
    "df['employment_type'] = df['employment_type'].replace('FL','Freelance')\n",
    "\n",
    "df['remote_ratio'] = df['remote_ratio'].replace(0 , 'Full-time Office')\n",
    "df['remote_ratio'] = df['remote_ratio'].replace(50 , 'Partially Remote Work')\n",
    "df['remote_ratio'] = df['remote_ratio'].replace(100 , 'Remote Work')"
   ]
  },
  {
   "cell_type": "code",
   "execution_count": null,
   "id": "8e59d963-79ee-41f0-9bdc-9143f9a0b27a",
   "metadata": {},
   "outputs": [],
   "source": []
  },
  {
   "cell_type": "markdown",
   "id": "ada2021d-8627-4681-b186-776b6650d46a",
   "metadata": {},
   "source": [
    "# Exploratory Data Analysis"
   ]
  },
  {
   "cell_type": "code",
   "execution_count": 14,
   "id": "6cfe2a20-1537-42c3-be09-f200901487da",
   "metadata": {},
   "outputs": [
    {
     "data": {
      "text/html": [
       "<div>\n",
       "<style scoped>\n",
       "    .dataframe tbody tr th:only-of-type {\n",
       "        vertical-align: middle;\n",
       "    }\n",
       "\n",
       "    .dataframe tbody tr th {\n",
       "        vertical-align: top;\n",
       "    }\n",
       "\n",
       "    .dataframe thead th {\n",
       "        text-align: right;\n",
       "    }\n",
       "</style>\n",
       "<table border=\"1\" class=\"dataframe\">\n",
       "  <thead>\n",
       "    <tr style=\"text-align: right;\">\n",
       "      <th></th>\n",
       "      <th>work_year</th>\n",
       "      <th>experience_level</th>\n",
       "      <th>employment_type</th>\n",
       "      <th>job_title</th>\n",
       "      <th>salary_in_usd</th>\n",
       "      <th>employee_residence</th>\n",
       "      <th>remote_ratio</th>\n",
       "      <th>company_location</th>\n",
       "      <th>company_size</th>\n",
       "    </tr>\n",
       "  </thead>\n",
       "  <tbody>\n",
       "    <tr>\n",
       "      <th>0</th>\n",
       "      <td>2023</td>\n",
       "      <td>Senior-level</td>\n",
       "      <td>Full-time</td>\n",
       "      <td>Principal Data Scientist</td>\n",
       "      <td>85847</td>\n",
       "      <td>ES</td>\n",
       "      <td>Remote Work</td>\n",
       "      <td>ES</td>\n",
       "      <td>L</td>\n",
       "    </tr>\n",
       "    <tr>\n",
       "      <th>1</th>\n",
       "      <td>2023</td>\n",
       "      <td>Mid-level</td>\n",
       "      <td>Contract</td>\n",
       "      <td>ML Engineer</td>\n",
       "      <td>30000</td>\n",
       "      <td>US</td>\n",
       "      <td>Remote Work</td>\n",
       "      <td>US</td>\n",
       "      <td>S</td>\n",
       "    </tr>\n",
       "    <tr>\n",
       "      <th>2</th>\n",
       "      <td>2023</td>\n",
       "      <td>Mid-level</td>\n",
       "      <td>Contract</td>\n",
       "      <td>ML Engineer</td>\n",
       "      <td>25500</td>\n",
       "      <td>US</td>\n",
       "      <td>Remote Work</td>\n",
       "      <td>US</td>\n",
       "      <td>S</td>\n",
       "    </tr>\n",
       "    <tr>\n",
       "      <th>3</th>\n",
       "      <td>2023</td>\n",
       "      <td>Senior-level</td>\n",
       "      <td>Full-time</td>\n",
       "      <td>Data Scientist</td>\n",
       "      <td>175000</td>\n",
       "      <td>CA</td>\n",
       "      <td>Remote Work</td>\n",
       "      <td>CA</td>\n",
       "      <td>M</td>\n",
       "    </tr>\n",
       "    <tr>\n",
       "      <th>4</th>\n",
       "      <td>2023</td>\n",
       "      <td>Senior-level</td>\n",
       "      <td>Full-time</td>\n",
       "      <td>Data Scientist</td>\n",
       "      <td>120000</td>\n",
       "      <td>CA</td>\n",
       "      <td>Remote Work</td>\n",
       "      <td>CA</td>\n",
       "      <td>M</td>\n",
       "    </tr>\n",
       "    <tr>\n",
       "      <th>...</th>\n",
       "      <td>...</td>\n",
       "      <td>...</td>\n",
       "      <td>...</td>\n",
       "      <td>...</td>\n",
       "      <td>...</td>\n",
       "      <td>...</td>\n",
       "      <td>...</td>\n",
       "      <td>...</td>\n",
       "      <td>...</td>\n",
       "    </tr>\n",
       "    <tr>\n",
       "      <th>3750</th>\n",
       "      <td>2020</td>\n",
       "      <td>Senior-level</td>\n",
       "      <td>Full-time</td>\n",
       "      <td>Data Scientist</td>\n",
       "      <td>412000</td>\n",
       "      <td>US</td>\n",
       "      <td>Remote Work</td>\n",
       "      <td>US</td>\n",
       "      <td>L</td>\n",
       "    </tr>\n",
       "    <tr>\n",
       "      <th>3751</th>\n",
       "      <td>2021</td>\n",
       "      <td>Mid-level</td>\n",
       "      <td>Full-time</td>\n",
       "      <td>Principal Data Scientist</td>\n",
       "      <td>151000</td>\n",
       "      <td>US</td>\n",
       "      <td>Remote Work</td>\n",
       "      <td>US</td>\n",
       "      <td>L</td>\n",
       "    </tr>\n",
       "    <tr>\n",
       "      <th>3752</th>\n",
       "      <td>2020</td>\n",
       "      <td>Entry-level</td>\n",
       "      <td>Full-time</td>\n",
       "      <td>Data Scientist</td>\n",
       "      <td>105000</td>\n",
       "      <td>US</td>\n",
       "      <td>Remote Work</td>\n",
       "      <td>US</td>\n",
       "      <td>S</td>\n",
       "    </tr>\n",
       "    <tr>\n",
       "      <th>3753</th>\n",
       "      <td>2020</td>\n",
       "      <td>Entry-level</td>\n",
       "      <td>Contract</td>\n",
       "      <td>Business Data Analyst</td>\n",
       "      <td>100000</td>\n",
       "      <td>US</td>\n",
       "      <td>Remote Work</td>\n",
       "      <td>US</td>\n",
       "      <td>L</td>\n",
       "    </tr>\n",
       "    <tr>\n",
       "      <th>3754</th>\n",
       "      <td>2021</td>\n",
       "      <td>Senior-level</td>\n",
       "      <td>Full-time</td>\n",
       "      <td>Data Science Manager</td>\n",
       "      <td>94665</td>\n",
       "      <td>IN</td>\n",
       "      <td>Partially Remote Work</td>\n",
       "      <td>IN</td>\n",
       "      <td>L</td>\n",
       "    </tr>\n",
       "  </tbody>\n",
       "</table>\n",
       "<p>2325 rows × 9 columns</p>\n",
       "</div>"
      ],
      "text/plain": [
       "      work_year experience_level employment_type                 job_title  \\\n",
       "0          2023     Senior-level       Full-time  Principal Data Scientist   \n",
       "1          2023        Mid-level        Contract               ML Engineer   \n",
       "2          2023        Mid-level        Contract               ML Engineer   \n",
       "3          2023     Senior-level       Full-time            Data Scientist   \n",
       "4          2023     Senior-level       Full-time            Data Scientist   \n",
       "...         ...              ...             ...                       ...   \n",
       "3750       2020     Senior-level       Full-time            Data Scientist   \n",
       "3751       2021        Mid-level       Full-time  Principal Data Scientist   \n",
       "3752       2020      Entry-level       Full-time            Data Scientist   \n",
       "3753       2020      Entry-level        Contract     Business Data Analyst   \n",
       "3754       2021     Senior-level       Full-time      Data Science Manager   \n",
       "\n",
       "      salary_in_usd employee_residence           remote_ratio  \\\n",
       "0             85847                 ES            Remote Work   \n",
       "1             30000                 US            Remote Work   \n",
       "2             25500                 US            Remote Work   \n",
       "3            175000                 CA            Remote Work   \n",
       "4            120000                 CA            Remote Work   \n",
       "...             ...                ...                    ...   \n",
       "3750         412000                 US            Remote Work   \n",
       "3751         151000                 US            Remote Work   \n",
       "3752         105000                 US            Remote Work   \n",
       "3753         100000                 US            Remote Work   \n",
       "3754          94665                 IN  Partially Remote Work   \n",
       "\n",
       "     company_location company_size  \n",
       "0                  ES            L  \n",
       "1                  US            S  \n",
       "2                  US            S  \n",
       "3                  CA            M  \n",
       "4                  CA            M  \n",
       "...               ...          ...  \n",
       "3750               US            L  \n",
       "3751               US            L  \n",
       "3752               US            S  \n",
       "3753               US            L  \n",
       "3754               IN            L  \n",
       "\n",
       "[2325 rows x 9 columns]"
      ]
     },
     "execution_count": 14,
     "metadata": {},
     "output_type": "execute_result"
    }
   ],
   "source": [
    "df"
   ]
  },
  {
   "cell_type": "markdown",
   "id": "84ced248-b3a0-4c86-8c55-377807a8e808",
   "metadata": {},
   "source": [
    "## Univariate Analysis"
   ]
  },
  {
   "cell_type": "code",
   "execution_count": 15,
   "id": "4d519402-0d8a-4ba2-8ec9-9277bf0854e3",
   "metadata": {},
   "outputs": [
    {
     "data": {
      "image/png": "[encoded data removed]",
      "text/plain": [
       "<Figure size 640x480 with 1 Axes>"
      ]
     },
     "metadata": {},
     "output_type": "display_data"
    }
   ],
   "source": [
    "# The number of Observation in each year\n",
    "df1 = df.groupby('work_year').agg(Count = ('experience_level','count'))\n",
    "\n",
    "sns.barplot(df1, x = df1.index, y= 'Count' , palette = sns.color_palette(\"husl\") )\n",
    "plt.title('The number of observation in each year');\n",
    "\n"
   ]
  },
  {
   "cell_type": "markdown",
   "id": "21076f85-ddf0-4566-a932-3192e14fb7ad",
   "metadata": {},
   "source": [
    "- It seems that the number of data scientist has been increased in a significant amount from 2021 to 2022"
   ]
  },
  {
   "cell_type": "code",
   "execution_count": 16,
   "id": "0f24c0dc-8732-4625-bb9f-40c9fced4fe8",
   "metadata": {},
   "outputs": [
    {
     "data": {
      "image/png": "[encoded data removed]",
      "text/plain": [
       "<Figure size 640x480 with 1 Axes>"
      ]
     },
     "metadata": {},
     "output_type": "display_data"
    }
   ],
   "source": [
    "df2 = df.groupby('experience_level').agg(Count = ('experience_level','count')).sort_values('Count')\n",
    "\n",
    "plt.pie(data = df2 , labels = df2.index, x = 'Count' , autopct = '%.0f%%')\n",
    "plt.title('Percentage of experience level in this data set');\n"
   ]
  },
  {
   "cell_type": "markdown",
   "id": "3a8b29ed-0be5-4a20-81c8-c15b510faa91",
   "metadata": {},
   "source": [
    "- Most of the observations are in senior-level accounting for 59% of the dataset"
   ]
  },
  {
   "cell_type": "code",
   "execution_count": 17,
   "id": "426738b9-c292-4443-a6b0-53dfd18c2ad4",
   "metadata": {},
   "outputs": [
    {
     "data": {
      "image/png": "[encoded data removed]",
      "text/plain": [
       "<Figure size 640x480 with 1 Axes>"
      ]
     },
     "metadata": {},
     "output_type": "display_data"
    }
   ],
   "source": [
    "df3 = df.groupby('employment_type').agg(Count = ('employment_type','count'))\n",
    "plt.pie(data = df3 , labels = df3.index, x = 'Count' , autopct = '%.0f%%', explode = [0.5,1,1.1,1.2])\n",
    "plt.title('Employment type');"
   ]
  },
  {
   "cell_type": "markdown",
   "id": "51747575-7259-464d-9542-caa9b0057260",
   "metadata": {},
   "source": [
    "- 98% of the participants worked as full-time job"
   ]
  },
  {
   "cell_type": "code",
   "execution_count": 18,
   "id": "b219e145-be7b-44b9-bbe3-46275d20044b",
   "metadata": {},
   "outputs": [
    {
     "data": {
      "image/png": "[encoded data removed]",
      "text/plain": [
       "<Figure size 640x480 with 1 Axes>"
      ]
     },
     "metadata": {},
     "output_type": "display_data"
    }
   ],
   "source": [
    "df4 = df.groupby('job_title').agg(Count = ('job_title','count')).sort_values('Count' ,ascending = False).head(10)\n",
    "\n",
    "ax = sns.barplot(df4, x = df4.index, y= 'Count' , palette = sns.color_palette(\"husl\") )\n",
    "\n",
    "plt.title('Top 10 Job title')\n",
    "\n",
    "ax.set_xticklabels(ax.get_xticklabels(),rotation = 45, size = 10);"
   ]
  },
  {
   "cell_type": "markdown",
   "id": "58dddcd9-25b4-4f3e-a4b8-a79dc292462b",
   "metadata": {},
   "source": [
    "- The Top three most popular job titles are Data Enigneer, Data Scientist, and Data Analyst."
   ]
  },
  {
   "cell_type": "code",
   "execution_count": 19,
   "id": "d7e8cea4-f7eb-4b1c-acde-991b59eaa1f5",
   "metadata": {},
   "outputs": [
    {
     "data": {
      "image/png": "[encoded data removed]",
      "text/plain": [
       "<Figure size 640x480 with 1 Axes>"
      ]
     },
     "metadata": {},
     "output_type": "display_data"
    }
   ],
   "source": [
    "sns.histplot(data = df , x = df.salary_in_usd);\n",
    "plt.title('Salary Distribution');"
   ]
  },
  {
   "cell_type": "code",
   "execution_count": 20,
   "id": "72e918e2-0f2b-4c60-a0d5-ade053523410",
   "metadata": {},
   "outputs": [
    {
     "data": {
      "text/plain": [
       "count      2325.000000\n",
       "mean     133401.728172\n",
       "std       68808.844620\n",
       "min        5132.000000\n",
       "25%       83171.000000\n",
       "50%      129300.000000\n",
       "75%      176000.000000\n",
       "max      450000.000000\n",
       "Name: salary_in_usd, dtype: float64"
      ]
     },
     "execution_count": 20,
     "metadata": {},
     "output_type": "execute_result"
    }
   ],
   "source": [
    "df.describe()['salary_in_usd']"
   ]
  },
  {
   "cell_type": "markdown",
   "id": "bada15b7-a437-466a-86cd-e230d8036f71",
   "metadata": {},
   "source": [
    "- The range of the salary is between 5,132-450,000 usd / year with the average is 133,401 usd / year"
   ]
  },
  {
   "cell_type": "code",
   "execution_count": 21,
   "id": "3d4019e9-400a-43d7-9130-d2e3185c36e9",
   "metadata": {},
   "outputs": [
    {
     "data": {
      "image/png": "[encoded data removed]",
      "text/plain": [
       "<Figure size 640x480 with 1 Axes>"
      ]
     },
     "metadata": {},
     "output_type": "display_data"
    }
   ],
   "source": [
    "df5 = df.groupby('remote_ratio').agg(Count = ('remote_ratio','count'))\n",
    "plt.pie(data = df5 , labels = df5.index, x = 'Count' , autopct = '%.0f%%')\n",
    "plt.title('Work type');"
   ]
  },
  {
   "cell_type": "markdown",
   "id": "a01ac7d1-dad4-4c16-aa06-0b411ba25f9c",
   "metadata": {},
   "source": [
    "- Interestingly, remote work and full-time office work contribute for almost half of the entire data set which are both 46% while only 8% are partially remote work."
   ]
  },
  {
   "cell_type": "code",
   "execution_count": 22,
   "id": "fc5575b5-2165-4805-97d3-b17af8f23358",
   "metadata": {},
   "outputs": [
    {
     "data": {
      "image/png": "[encoded data removed]",
      "text/plain": [
       "<Figure size 640x480 with 1 Axes>"
      ]
     },
     "metadata": {},
     "output_type": "display_data"
    }
   ],
   "source": [
    "df6 = df.groupby('company_size').agg(Count = ('company_size','count'))\n",
    "plt.pie(data = df6 , labels = df6.index, x = 'Count' , autopct = '%.0f%%' , colors=sns.color_palette('Set2'))\n",
    "plt.title('Company Size');"
   ]
  },
  {
   "cell_type": "markdown",
   "id": "b4f315ae-d20f-4a19-8547-f1121c21a970",
   "metadata": {},
   "source": [
    "- The majority of the company size are medium size accounts for 78% while the large size and small size are 17% and 6% ,respectively"
   ]
  },
  {
   "cell_type": "markdown",
   "id": "008605f0-7503-4a91-b700-738ccce63609",
   "metadata": {},
   "source": [
    "# Bivariate Analysis"
   ]
  },
  {
   "cell_type": "markdown",
   "id": "fc560e61-1b6e-487e-86be-946d07136438",
   "metadata": {
    "tags": []
   },
   "source": [
    "### Q : What is the range of the salary in the top three most popular job titles???"
   ]
  },
  {
   "cell_type": "code",
   "execution_count": 23,
   "id": "8ff920e6-df52-4b7a-82ca-5475ffa22629",
   "metadata": {},
   "outputs": [
    {
     "data": {
      "text/html": [
       "<div>\n",
       "<style scoped>\n",
       "    .dataframe tbody tr th:only-of-type {\n",
       "        vertical-align: middle;\n",
       "    }\n",
       "\n",
       "    .dataframe tbody tr th {\n",
       "        vertical-align: top;\n",
       "    }\n",
       "\n",
       "    .dataframe thead th {\n",
       "        text-align: right;\n",
       "    }\n",
       "</style>\n",
       "<table border=\"1\" class=\"dataframe\">\n",
       "  <thead>\n",
       "    <tr style=\"text-align: right;\">\n",
       "      <th></th>\n",
       "      <th>Count</th>\n",
       "    </tr>\n",
       "    <tr>\n",
       "      <th>job_title</th>\n",
       "      <th></th>\n",
       "    </tr>\n",
       "  </thead>\n",
       "  <tbody>\n",
       "    <tr>\n",
       "      <th>Data Engineer</th>\n",
       "      <td>507</td>\n",
       "    </tr>\n",
       "    <tr>\n",
       "      <th>Data Scientist</th>\n",
       "      <td>471</td>\n",
       "    </tr>\n",
       "    <tr>\n",
       "      <th>Data Analyst</th>\n",
       "      <td>332</td>\n",
       "    </tr>\n",
       "  </tbody>\n",
       "</table>\n",
       "</div>"
      ],
      "text/plain": [
       "                Count\n",
       "job_title            \n",
       "Data Engineer     507\n",
       "Data Scientist    471\n",
       "Data Analyst      332"
      ]
     },
     "execution_count": 23,
     "metadata": {},
     "output_type": "execute_result"
    }
   ],
   "source": [
    "df.groupby('job_title').agg(Count = ('job_title','count')).sort_values('Count', ascending = False).head(3)\n",
    "# The top three most popular job titles are Data Engineer, Data scientist , and Data analyst"
   ]
  },
  {
   "cell_type": "code",
   "execution_count": 24,
   "id": "b187ca60-dd74-40bc-8ace-788a841fb291",
   "metadata": {},
   "outputs": [],
   "source": [
    "pop_job = ['Data Engineer','Data Scientist','Data Analyst']\n",
    "df_salary = df.query('job_title == @pop_job')"
   ]
  },
  {
   "cell_type": "code",
   "execution_count": 28,
   "id": "2c4bfac6-c215-4294-bfbf-c913c5c1b437",
   "metadata": {},
   "outputs": [
    {
     "data": {
      "image/png": "[encoded data removed]",
      "text/plain": [
       "<Figure size 640x480 with 1 Axes>"
      ]
     },
     "metadata": {},
     "output_type": "display_data"
    }
   ],
   "source": [
    "sns.boxplot(data = df_salary.sort_values('salary_in_usd' , ascending = False), x = 'salary_in_usd' , y = 'job_title');"
   ]
  },
  {
   "cell_type": "code",
   "execution_count": 29,
   "id": "68aa18f5-3607-475e-baf4-88f15fe77186",
   "metadata": {},
   "outputs": [
    {
     "data": {
      "text/html": [
       "<div>\n",
       "<style scoped>\n",
       "    .dataframe tbody tr th:only-of-type {\n",
       "        vertical-align: middle;\n",
       "    }\n",
       "\n",
       "    .dataframe tbody tr th {\n",
       "        vertical-align: top;\n",
       "    }\n",
       "\n",
       "    .dataframe thead th {\n",
       "        text-align: right;\n",
       "    }\n",
       "</style>\n",
       "<table border=\"1\" class=\"dataframe\">\n",
       "  <thead>\n",
       "    <tr style=\"text-align: right;\">\n",
       "      <th></th>\n",
       "      <th>count</th>\n",
       "      <th>mean</th>\n",
       "      <th>std</th>\n",
       "      <th>min</th>\n",
       "      <th>25%</th>\n",
       "      <th>50%</th>\n",
       "      <th>75%</th>\n",
       "      <th>max</th>\n",
       "    </tr>\n",
       "    <tr>\n",
       "      <th>job_title</th>\n",
       "      <th></th>\n",
       "      <th></th>\n",
       "      <th></th>\n",
       "      <th></th>\n",
       "      <th></th>\n",
       "      <th></th>\n",
       "      <th></th>\n",
       "      <th></th>\n",
       "    </tr>\n",
       "  </thead>\n",
       "  <tbody>\n",
       "    <tr>\n",
       "      <th>Data Engineer</th>\n",
       "      <td>507.0</td>\n",
       "      <td>140379.786982</td>\n",
       "      <td>63803.257121</td>\n",
       "      <td>12000.0</td>\n",
       "      <td>93425.0</td>\n",
       "      <td>134760.0</td>\n",
       "      <td>182625.0</td>\n",
       "      <td>324000.0</td>\n",
       "    </tr>\n",
       "    <tr>\n",
       "      <th>Data Scientist</th>\n",
       "      <td>471.0</td>\n",
       "      <td>130255.484076</td>\n",
       "      <td>66048.273439</td>\n",
       "      <td>5679.0</td>\n",
       "      <td>82182.5</td>\n",
       "      <td>129300.0</td>\n",
       "      <td>172150.0</td>\n",
       "      <td>412000.0</td>\n",
       "    </tr>\n",
       "    <tr>\n",
       "      <th>Data Analyst</th>\n",
       "      <td>332.0</td>\n",
       "      <td>106425.981928</td>\n",
       "      <td>54696.295137</td>\n",
       "      <td>5723.0</td>\n",
       "      <td>65000.0</td>\n",
       "      <td>104650.0</td>\n",
       "      <td>135250.0</td>\n",
       "      <td>430967.0</td>\n",
       "    </tr>\n",
       "  </tbody>\n",
       "</table>\n",
       "</div>"
      ],
      "text/plain": [
       "                count           mean           std      min      25%  \\\n",
       "job_title                                                              \n",
       "Data Engineer   507.0  140379.786982  63803.257121  12000.0  93425.0   \n",
       "Data Scientist  471.0  130255.484076  66048.273439   5679.0  82182.5   \n",
       "Data Analyst    332.0  106425.981928  54696.295137   5723.0  65000.0   \n",
       "\n",
       "                     50%       75%       max  \n",
       "job_title                                     \n",
       "Data Engineer   134760.0  182625.0  324000.0  \n",
       "Data Scientist  129300.0  172150.0  412000.0  \n",
       "Data Analyst    104650.0  135250.0  430967.0  "
      ]
     },
     "execution_count": 29,
     "metadata": {},
     "output_type": "execute_result"
    }
   ],
   "source": [
    "df_salary.groupby('job_title').describe()['salary_in_usd'].sort_values('count',ascending = False)"
   ]
  },
  {
   "cell_type": "markdown",
   "id": "d3796ecd-58fe-4fa2-88d2-e7941b821760",
   "metadata": {},
   "source": [
    "- As we can see, data engineer is the higest average job paid among other jobs."
   ]
  },
  {
   "cell_type": "markdown",
   "id": "78a489c3-5617-4b5b-b78f-90225f9ebe02",
   "metadata": {},
   "source": [
    "### What are the average salaries for each type of experience level?"
   ]
  },
  {
   "cell_type": "code",
   "execution_count": 35,
   "id": "f2740f86-f5cb-49d7-8090-6a77e9995d44",
   "metadata": {},
   "outputs": [
    {
     "data": {
      "text/plain": [
       "array(['Senior-level', 'Mid-level', 'Entry-level', 'Executive-level'],\n",
       "      dtype=object)"
      ]
     },
     "execution_count": 35,
     "metadata": {},
     "output_type": "execute_result"
    }
   ],
   "source": [
    "df.experience_level.unique()"
   ]
  },
  {
   "cell_type": "code",
   "execution_count": 49,
   "id": "c6f68057-f9f9-44a6-84fe-5c36443d1f81",
   "metadata": {},
   "outputs": [],
   "source": [
    "df_1 = df[df['experience_level'] == 'Senior-level'][['experience_level','salary_in_usd']]\n",
    "df_2 = df[df['experience_level'] == 'Mid-level'][['experience_level','salary_in_usd']]\n",
    "df_3 = df[df['experience_level'] == 'Entry-level'][['experience_level','salary_in_usd']]\n",
    "df_4 = df[df['experience_level'] == 'Executive-level'][['experience_level','salary_in_usd']]\n",
    "\n",
    "frames = [df_1,df_2,df_3,df_4]\n",
    "result = pd.concat(frames)"
   ]
  },
  {
   "cell_type": "code",
   "execution_count": 50,
   "id": "04373d25-7edb-4de4-a2a1-8ede767c6f67",
   "metadata": {},
   "outputs": [
    {
     "data": {
      "text/html": [
       "<div>\n",
       "<style scoped>\n",
       "    .dataframe tbody tr th:only-of-type {\n",
       "        vertical-align: middle;\n",
       "    }\n",
       "\n",
       "    .dataframe tbody tr th {\n",
       "        vertical-align: top;\n",
       "    }\n",
       "\n",
       "    .dataframe thead th {\n",
       "        text-align: right;\n",
       "    }\n",
       "</style>\n",
       "<table border=\"1\" class=\"dataframe\">\n",
       "  <thead>\n",
       "    <tr style=\"text-align: right;\">\n",
       "      <th></th>\n",
       "      <th>experience_level</th>\n",
       "      <th>salary_in_usd</th>\n",
       "    </tr>\n",
       "  </thead>\n",
       "  <tbody>\n",
       "    <tr>\n",
       "      <th>0</th>\n",
       "      <td>Senior-level</td>\n",
       "      <td>85847</td>\n",
       "    </tr>\n",
       "    <tr>\n",
       "      <th>3</th>\n",
       "      <td>Senior-level</td>\n",
       "      <td>175000</td>\n",
       "    </tr>\n",
       "    <tr>\n",
       "      <th>4</th>\n",
       "      <td>Senior-level</td>\n",
       "      <td>120000</td>\n",
       "    </tr>\n",
       "    <tr>\n",
       "      <th>5</th>\n",
       "      <td>Senior-level</td>\n",
       "      <td>222200</td>\n",
       "    </tr>\n",
       "    <tr>\n",
       "      <th>6</th>\n",
       "      <td>Senior-level</td>\n",
       "      <td>136000</td>\n",
       "    </tr>\n",
       "    <tr>\n",
       "      <th>...</th>\n",
       "      <td>...</td>\n",
       "      <td>...</td>\n",
       "    </tr>\n",
       "    <tr>\n",
       "      <th>3559</th>\n",
       "      <td>Executive-level</td>\n",
       "      <td>79833</td>\n",
       "    </tr>\n",
       "    <tr>\n",
       "      <th>3643</th>\n",
       "      <td>Executive-level</td>\n",
       "      <td>141846</td>\n",
       "    </tr>\n",
       "    <tr>\n",
       "      <th>3660</th>\n",
       "      <td>Executive-level</td>\n",
       "      <td>69741</td>\n",
       "    </tr>\n",
       "    <tr>\n",
       "      <th>3675</th>\n",
       "      <td>Executive-level</td>\n",
       "      <td>416000</td>\n",
       "    </tr>\n",
       "    <tr>\n",
       "      <th>3697</th>\n",
       "      <td>Executive-level</td>\n",
       "      <td>325000</td>\n",
       "    </tr>\n",
       "  </tbody>\n",
       "</table>\n",
       "<p>2325 rows × 2 columns</p>\n",
       "</div>"
      ],
      "text/plain": [
       "     experience_level  salary_in_usd\n",
       "0        Senior-level          85847\n",
       "3        Senior-level         175000\n",
       "4        Senior-level         120000\n",
       "5        Senior-level         222200\n",
       "6        Senior-level         136000\n",
       "...               ...            ...\n",
       "3559  Executive-level          79833\n",
       "3643  Executive-level         141846\n",
       "3660  Executive-level          69741\n",
       "3675  Executive-level         416000\n",
       "3697  Executive-level         325000\n",
       "\n",
       "[2325 rows x 2 columns]"
      ]
     },
     "execution_count": 50,
     "metadata": {},
     "output_type": "execute_result"
    }
   ],
   "source": [
    "result"
   ]
  },
  {
   "cell_type": "code",
   "execution_count": null,
   "id": "2eafb859-9c41-46d6-9a70-7f4a648e7d05",
   "metadata": {},
   "outputs": [],
   "source": [
    "result.groupby('experience_level')."
   ]
  },
  {
   "cell_type": "code",
   "execution_count": 53,
   "id": "aaca7858-712d-4bb9-8474-df79ee98eb93",
   "metadata": {},
   "outputs": [
    {
     "data": {
      "image/png": "[encoded data removed]",
      "text/plain": [
       "<Figure size 640x480 with 1 Axes>"
      ]
     },
     "metadata": {},
     "output_type": "display_data"
    }
   ],
   "source": [
    "sns.boxplot(data = result , x = 'salary_in_usd' , y = 'experience_level');"
   ]
  },
  {
   "cell_type": "code",
   "execution_count": 159,
   "id": "8ad186b9-31b9-46f2-aec9-0088bed1ef94",
   "metadata": {},
   "outputs": [
    {
     "data": {
      "text/html": [
       "<div>\n",
       "<style scoped>\n",
       "    .dataframe tbody tr th:only-of-type {\n",
       "        vertical-align: middle;\n",
       "    }\n",
       "\n",
       "    .dataframe tbody tr th {\n",
       "        vertical-align: top;\n",
       "    }\n",
       "\n",
       "    .dataframe thead tr th {\n",
       "        text-align: left;\n",
       "    }\n",
       "\n",
       "    .dataframe thead tr:last-of-type th {\n",
       "        text-align: right;\n",
       "    }\n",
       "</style>\n",
       "<table border=\"1\" class=\"dataframe\">\n",
       "  <thead>\n",
       "    <tr>\n",
       "      <th></th>\n",
       "      <th colspan=\"8\" halign=\"left\">salary_in_usd</th>\n",
       "    </tr>\n",
       "    <tr>\n",
       "      <th></th>\n",
       "      <th>count</th>\n",
       "      <th>mean</th>\n",
       "      <th>std</th>\n",
       "      <th>min</th>\n",
       "      <th>25%</th>\n",
       "      <th>50%</th>\n",
       "      <th>75%</th>\n",
       "      <th>max</th>\n",
       "    </tr>\n",
       "    <tr>\n",
       "      <th>experience_level</th>\n",
       "      <th></th>\n",
       "      <th></th>\n",
       "      <th></th>\n",
       "      <th></th>\n",
       "      <th></th>\n",
       "      <th></th>\n",
       "      <th></th>\n",
       "      <th></th>\n",
       "    </tr>\n",
       "  </thead>\n",
       "  <tbody>\n",
       "    <tr>\n",
       "      <th>Entry-level</th>\n",
       "      <td>256.0</td>\n",
       "      <td>72739.500000</td>\n",
       "      <td>52616.497948</td>\n",
       "      <td>5409.0</td>\n",
       "      <td>31257.25</td>\n",
       "      <td>61252.0</td>\n",
       "      <td>100000.0</td>\n",
       "      <td>300000.0</td>\n",
       "    </tr>\n",
       "    <tr>\n",
       "      <th>Executive-level</th>\n",
       "      <td>95.0</td>\n",
       "      <td>190984.294737</td>\n",
       "      <td>71374.223825</td>\n",
       "      <td>15000.0</td>\n",
       "      <td>143423.00</td>\n",
       "      <td>187200.0</td>\n",
       "      <td>235000.0</td>\n",
       "      <td>416000.0</td>\n",
       "    </tr>\n",
       "    <tr>\n",
       "      <th>Mid-level</th>\n",
       "      <td>606.0</td>\n",
       "      <td>101569.377888</td>\n",
       "      <td>58174.684154</td>\n",
       "      <td>5132.0</td>\n",
       "      <td>61266.75</td>\n",
       "      <td>94780.0</td>\n",
       "      <td>134000.0</td>\n",
       "      <td>450000.0</td>\n",
       "    </tr>\n",
       "    <tr>\n",
       "      <th>Senior-level</th>\n",
       "      <td>1368.0</td>\n",
       "      <td>154856.107456</td>\n",
       "      <td>62091.256192</td>\n",
       "      <td>8000.0</td>\n",
       "      <td>110500.00</td>\n",
       "      <td>149675.0</td>\n",
       "      <td>192516.0</td>\n",
       "      <td>423834.0</td>\n",
       "    </tr>\n",
       "  </tbody>\n",
       "</table>\n",
       "</div>"
      ],
      "text/plain": [
       "                 salary_in_usd                                        \\\n",
       "                         count           mean           std      min   \n",
       "experience_level                                                       \n",
       "Entry-level              256.0   72739.500000  52616.497948   5409.0   \n",
       "Executive-level           95.0  190984.294737  71374.223825  15000.0   \n",
       "Mid-level                606.0  101569.377888  58174.684154   5132.0   \n",
       "Senior-level            1368.0  154856.107456  62091.256192   8000.0   \n",
       "\n",
       "                                                           \n",
       "                        25%       50%       75%       max  \n",
       "experience_level                                           \n",
       "Entry-level        31257.25   61252.0  100000.0  300000.0  \n",
       "Executive-level   143423.00  187200.0  235000.0  416000.0  \n",
       "Mid-level          61266.75   94780.0  134000.0  450000.0  \n",
       "Senior-level      110500.00  149675.0  192516.0  423834.0  "
      ]
     },
     "execution_count": 159,
     "metadata": {},
     "output_type": "execute_result"
    }
   ],
   "source": [
    "result.groupby('experience_level').describe()"
   ]
  },
  {
   "cell_type": "markdown",
   "id": "dcd321f7-9aed-4c94-88bc-3aa4d7032a7b",
   "metadata": {},
   "source": [
    "- **The average paid of each job experience level**\n",
    "1. Entry-level is 72,739 usd/y\n",
    "2. Mid-level is 101,569 usd/y\n",
    "3. Senior-level is 154,856 usd/y\n",
    "4. Executive-level is 190,984 usd/y"
   ]
  },
  {
   "cell_type": "markdown",
   "id": "2641143b-77ee-43f7-b9cb-05fed596dff7",
   "metadata": {},
   "source": [
    "### Do people get paid differently between each type of employment?\n"
   ]
  },
  {
   "cell_type": "code",
   "execution_count": 113,
   "id": "12c257c1-ceb3-4532-8342-465126c539e0",
   "metadata": {},
   "outputs": [
    {
     "data": {
      "text/plain": [
       "array(['Remote Work', 'Full-time Office', 'Partially Remote Work'],\n",
       "      dtype=object)"
      ]
     },
     "execution_count": 113,
     "metadata": {},
     "output_type": "execute_result"
    }
   ],
   "source": [
    "df.remote_ratio.unique()"
   ]
  },
  {
   "cell_type": "code",
   "execution_count": 116,
   "id": "4a45cfb8-13f4-44fb-83a0-e528e0205f49",
   "metadata": {},
   "outputs": [],
   "source": [
    "df_a = df[df['remote_ratio'] == 'Remote Work'][['remote_ratio','salary_in_usd']]\n",
    "df_b = df[df['remote_ratio'] == 'Full-time Office'][['remote_ratio','salary_in_usd']]\n",
    "df_c = df[df['remote_ratio'] == 'Partially Remote Work'][['remote_ratio','salary_in_usd']]\n",
    "\n",
    "frame = [df_a,df_b,df_c]\n",
    "union = pd.concat(frame)"
   ]
  },
  {
   "cell_type": "code",
   "execution_count": 117,
   "id": "78821503-ad4e-4863-b438-6feb206b7ead",
   "metadata": {},
   "outputs": [
    {
     "data": {
      "text/html": [
       "<div>\n",
       "<style scoped>\n",
       "    .dataframe tbody tr th:only-of-type {\n",
       "        vertical-align: middle;\n",
       "    }\n",
       "\n",
       "    .dataframe tbody tr th {\n",
       "        vertical-align: top;\n",
       "    }\n",
       "\n",
       "    .dataframe thead tr th {\n",
       "        text-align: left;\n",
       "    }\n",
       "\n",
       "    .dataframe thead tr:last-of-type th {\n",
       "        text-align: right;\n",
       "    }\n",
       "</style>\n",
       "<table border=\"1\" class=\"dataframe\">\n",
       "  <thead>\n",
       "    <tr>\n",
       "      <th></th>\n",
       "      <th colspan=\"8\" halign=\"left\">salary_in_usd</th>\n",
       "    </tr>\n",
       "    <tr>\n",
       "      <th></th>\n",
       "      <th>count</th>\n",
       "      <th>mean</th>\n",
       "      <th>std</th>\n",
       "      <th>min</th>\n",
       "      <th>25%</th>\n",
       "      <th>50%</th>\n",
       "      <th>75%</th>\n",
       "      <th>max</th>\n",
       "    </tr>\n",
       "    <tr>\n",
       "      <th>remote_ratio</th>\n",
       "      <th></th>\n",
       "      <th></th>\n",
       "      <th></th>\n",
       "      <th></th>\n",
       "      <th></th>\n",
       "      <th></th>\n",
       "      <th></th>\n",
       "      <th></th>\n",
       "    </tr>\n",
       "  </thead>\n",
       "  <tbody>\n",
       "    <tr>\n",
       "      <th>Full-time Office</th>\n",
       "      <td>1071.0</td>\n",
       "      <td>144532.850607</td>\n",
       "      <td>65562.774673</td>\n",
       "      <td>5882.0</td>\n",
       "      <td>100000.0</td>\n",
       "      <td>139000.0</td>\n",
       "      <td>181470.0</td>\n",
       "      <td>450000.0</td>\n",
       "    </tr>\n",
       "    <tr>\n",
       "      <th>Partially Remote Work</th>\n",
       "      <td>185.0</td>\n",
       "      <td>78397.027027</td>\n",
       "      <td>61925.594568</td>\n",
       "      <td>5409.0</td>\n",
       "      <td>40000.0</td>\n",
       "      <td>63040.0</td>\n",
       "      <td>100000.0</td>\n",
       "      <td>423000.0</td>\n",
       "    </tr>\n",
       "    <tr>\n",
       "      <th>Remote Work</th>\n",
       "      <td>1069.0</td>\n",
       "      <td>131768.835360</td>\n",
       "      <td>68443.796891</td>\n",
       "      <td>5132.0</td>\n",
       "      <td>80036.0</td>\n",
       "      <td>129400.0</td>\n",
       "      <td>180000.0</td>\n",
       "      <td>416000.0</td>\n",
       "    </tr>\n",
       "  </tbody>\n",
       "</table>\n",
       "</div>"
      ],
      "text/plain": [
       "                      salary_in_usd                                       \\\n",
       "                              count           mean           std     min   \n",
       "remote_ratio                                                               \n",
       "Full-time Office             1071.0  144532.850607  65562.774673  5882.0   \n",
       "Partially Remote Work         185.0   78397.027027  61925.594568  5409.0   \n",
       "Remote Work                  1069.0  131768.835360  68443.796891  5132.0   \n",
       "\n",
       "                                                               \n",
       "                            25%       50%       75%       max  \n",
       "remote_ratio                                                   \n",
       "Full-time Office       100000.0  139000.0  181470.0  450000.0  \n",
       "Partially Remote Work   40000.0   63040.0  100000.0  423000.0  \n",
       "Remote Work             80036.0  129400.0  180000.0  416000.0  "
      ]
     },
     "execution_count": 117,
     "metadata": {},
     "output_type": "execute_result"
    }
   ],
   "source": [
    "union.groupby('remote_ratio').describe()"
   ]
  },
  {
   "cell_type": "code",
   "execution_count": 118,
   "id": "3766fad0-29f2-4ede-9538-e142c2e6b9aa",
   "metadata": {},
   "outputs": [
    {
     "data": {
      "image/png": "[encoded data removed]",
      "text/plain": [
       "<Figure size 640x480 with 1 Axes>"
      ]
     },
     "metadata": {},
     "output_type": "display_data"
    }
   ],
   "source": [
    "sns.boxplot(data = union , x = 'salary_in_usd' , y = 'remote_ratio');"
   ]
  },
  {
   "cell_type": "markdown",
   "id": "f3a1917c-aa3b-49b6-9703-943a186946cc",
   "metadata": {},
   "source": [
    "- The average paid of full-time office workers (144,532 usd/y) is higher than the remote workers (131,468 usd/y) while partially remote workers gets only 78,397 usd/y on average. However, the number of observations on partially remote workers are quite low.So, the data might me inaccurate."
   ]
  },
  {
   "cell_type": "code",
   "execution_count": null,
   "id": "181c5305-43f3-4397-8921-fd75a1426d4f",
   "metadata": {},
   "outputs": [],
   "source": []
  }
 ],
 "metadata": {
  "kernelspec": {
   "display_name": "Python 3 (ipykernel)",
   "language": "python",
   "name": "python3"
  },
  "language_info": {
   "codemirror_mode": {
    "name": "ipython",
    "version": 3
   },
   "file_extension": ".py",
   "mimetype": "text/x-python",
   "name": "python",
   "nbconvert_exporter": "python",
   "pygments_lexer": "ipython3",
   "version": "3.11.1"
  }
 },
 "nbformat": 4,
 "nbformat_minor": 5
}
